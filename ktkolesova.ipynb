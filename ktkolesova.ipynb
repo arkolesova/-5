{
 "cells": [
  {
   "cell_type": "code",
   "execution_count": 1,
   "metadata": {},
   "outputs": [],
   "source": [
    "import pandas as pd"
   ]
  },
  {
   "cell_type": "code",
   "execution_count": 2,
   "metadata": {},
   "outputs": [
    {
     "data": {
      "text/html": [
       "<div>\n",
       "<style scoped>\n",
       "    .dataframe tbody tr th:only-of-type {\n",
       "        vertical-align: middle;\n",
       "    }\n",
       "\n",
       "    .dataframe tbody tr th {\n",
       "        vertical-align: top;\n",
       "    }\n",
       "\n",
       "    .dataframe thead th {\n",
       "        text-align: right;\n",
       "    }\n",
       "</style>\n",
       "<table border=\"1\" class=\"dataframe\">\n",
       "  <thead>\n",
       "    <tr style=\"text-align: right;\">\n",
       "      <th></th>\n",
       "      <th>region</th>\n",
       "      <th>nature</th>\n",
       "      <th>techic</th>\n",
       "      <th>medic</th>\n",
       "      <th>agro</th>\n",
       "      <th>piople</th>\n",
       "      <th>human</th>\n",
       "    </tr>\n",
       "  </thead>\n",
       "  <tbody>\n",
       "    <tr>\n",
       "      <th>0</th>\n",
       "      <td>Республика Адыгея</td>\n",
       "      <td>10407.5</td>\n",
       "      <td>66425.0</td>\n",
       "      <td>7155.3</td>\n",
       "      <td>63343.5</td>\n",
       "      <td>27332.5</td>\n",
       "      <td>27735.7</td>\n",
       "    </tr>\n",
       "    <tr>\n",
       "      <th>1</th>\n",
       "      <td>Республика Алтай</td>\n",
       "      <td>23425.2</td>\n",
       "      <td>3009.2</td>\n",
       "      <td>150.0</td>\n",
       "      <td>25404.0</td>\n",
       "      <td>8361.8</td>\n",
       "      <td>29394.6</td>\n",
       "    </tr>\n",
       "    <tr>\n",
       "      <th>2</th>\n",
       "      <td>Республика Башкортостан</td>\n",
       "      <td>1230187.9</td>\n",
       "      <td>5659374.4</td>\n",
       "      <td>960709.4</td>\n",
       "      <td>105219.4</td>\n",
       "      <td>152508.7</td>\n",
       "      <td>221711.2</td>\n",
       "    </tr>\n",
       "    <tr>\n",
       "      <th>3</th>\n",
       "      <td>Республика Бурятия</td>\n",
       "      <td>651148.1</td>\n",
       "      <td>31009.1</td>\n",
       "      <td>28835.6</td>\n",
       "      <td>57507.9</td>\n",
       "      <td>150744.3</td>\n",
       "      <td>129918.4</td>\n",
       "    </tr>\n",
       "    <tr>\n",
       "      <th>4</th>\n",
       "      <td>Республика Дагестан</td>\n",
       "      <td>385341.2</td>\n",
       "      <td>173959.1</td>\n",
       "      <td>54181.3</td>\n",
       "      <td>100532.2</td>\n",
       "      <td>118397.2</td>\n",
       "      <td>137097.6</td>\n",
       "    </tr>\n",
       "    <tr>\n",
       "      <th>...</th>\n",
       "      <td>...</td>\n",
       "      <td>...</td>\n",
       "      <td>...</td>\n",
       "      <td>...</td>\n",
       "      <td>...</td>\n",
       "      <td>...</td>\n",
       "      <td>...</td>\n",
       "    </tr>\n",
       "    <tr>\n",
       "      <th>79</th>\n",
       "      <td>Ханты-Мансийский автономный округ – Югра</td>\n",
       "      <td>476942.9</td>\n",
       "      <td>2097411.3</td>\n",
       "      <td>67142.4</td>\n",
       "      <td>0.0</td>\n",
       "      <td>102544.7</td>\n",
       "      <td>61863.3</td>\n",
       "    </tr>\n",
       "    <tr>\n",
       "      <th>80</th>\n",
       "      <td>Чукотский автономный округ</td>\n",
       "      <td>38168.4</td>\n",
       "      <td>1069.8</td>\n",
       "      <td>0.0</td>\n",
       "      <td>0.0</td>\n",
       "      <td>0.0</td>\n",
       "      <td>0.0</td>\n",
       "    </tr>\n",
       "    <tr>\n",
       "      <th>81</th>\n",
       "      <td>Ямало-Ненецкий автономный округ</td>\n",
       "      <td>26850.1</td>\n",
       "      <td>0.0</td>\n",
       "      <td>31925.3</td>\n",
       "      <td>0.0</td>\n",
       "      <td>41481.9</td>\n",
       "      <td>36055.0</td>\n",
       "    </tr>\n",
       "    <tr>\n",
       "      <th>82</th>\n",
       "      <td>Республика Крым</td>\n",
       "      <td>296207.0</td>\n",
       "      <td>158602.7</td>\n",
       "      <td>19922.2</td>\n",
       "      <td>698827.5</td>\n",
       "      <td>8704.2</td>\n",
       "      <td>53605.0</td>\n",
       "    </tr>\n",
       "    <tr>\n",
       "      <th>83</th>\n",
       "      <td>Севастополь</td>\n",
       "      <td>525019.8</td>\n",
       "      <td>106588.3</td>\n",
       "      <td>0.0</td>\n",
       "      <td>0.0</td>\n",
       "      <td>17250.7</td>\n",
       "      <td>1315.0</td>\n",
       "    </tr>\n",
       "  </tbody>\n",
       "</table>\n",
       "<p>84 rows × 7 columns</p>\n",
       "</div>"
      ],
      "text/plain": [
       "                                      region     nature     techic     medic  \\\n",
       "0                          Республика Адыгея    10407.5    66425.0    7155.3   \n",
       "1                           Республика Алтай    23425.2     3009.2     150.0   \n",
       "2                    Республика Башкортостан  1230187.9  5659374.4  960709.4   \n",
       "3                         Республика Бурятия   651148.1    31009.1   28835.6   \n",
       "4                        Республика Дагестан   385341.2   173959.1   54181.3   \n",
       "..                                       ...        ...        ...       ...   \n",
       "79  Ханты-Мансийский автономный округ – Югра   476942.9  2097411.3   67142.4   \n",
       "80                Чукотский автономный округ    38168.4     1069.8       0.0   \n",
       "81           Ямало-Ненецкий автономный округ    26850.1        0.0   31925.3   \n",
       "82                           Республика Крым   296207.0   158602.7   19922.2   \n",
       "83                               Севастополь   525019.8   106588.3       0.0   \n",
       "\n",
       "        agro    piople     human  \n",
       "0    63343.5   27332.5   27735.7  \n",
       "1    25404.0    8361.8   29394.6  \n",
       "2   105219.4  152508.7  221711.2  \n",
       "3    57507.9  150744.3  129918.4  \n",
       "4   100532.2  118397.2  137097.6  \n",
       "..       ...       ...       ...  \n",
       "79       0.0  102544.7   61863.3  \n",
       "80       0.0       0.0       0.0  \n",
       "81       0.0   41481.9   36055.0  \n",
       "82  698827.5    8704.2   53605.0  \n",
       "83       0.0   17250.7    1315.0  \n",
       "\n",
       "[84 rows x 7 columns]"
      ]
     },
     "metadata": {},
     "output_type": "display_data"
    }
   ],
   "source": [
    "D = pd.read_csv(\"https://github.com/junaart/ForStudents/raw/refs/heads/main/R/Zachet/DataSets/6.csv\",sep=\";\")\n",
    "display(D)"
   ]
  },
  {
   "cell_type": "code",
   "execution_count": 3,
   "metadata": {},
   "outputs": [],
   "source": [
    "import redis as rd"
   ]
  },
  {
   "cell_type": "code",
   "execution_count": 4,
   "metadata": {},
   "outputs": [],
   "source": [
    "r = rd.Redis()\n",
    "key = \"my_ww.\"\n",
    "for i in range(len(D[\"nature\"])):\n",
    "    r.set(key+str(i),str(D[\"nature\"].iloc[i]))"
   ]
  },
  {
   "cell_type": "code",
   "execution_count": 5,
   "metadata": {},
   "outputs": [
    {
     "data": {
      "text/plain": [
       "Index(['region', 'nature', 'techic', 'medic', 'agro', 'piople', 'human'], dtype='object')"
      ]
     },
     "execution_count": 5,
     "metadata": {},
     "output_type": "execute_result"
    }
   ],
   "source": [
    "D.columns"
   ]
  },
  {
   "cell_type": "code",
   "execution_count": 6,
   "metadata": {},
   "outputs": [],
   "source": [
    "r = rd.Redis()\n",
    "key = \"my_ww2.\"\n",
    "for i in range(len(D[\"techic\"])):\n",
    "    r.set(key+str(i),str(D[\"techic\"].iloc[i]))"
   ]
  },
  {
   "cell_type": "code",
   "execution_count": 7,
   "metadata": {},
   "outputs": [],
   "source": [
    "r = rd.Redis()\n",
    "key = \"my_ww3.\"\n",
    "for i in range(len(D[\"medic\"])):\n",
    "    r.set(key+str(i),str(D[\"medic\"].iloc[i]))"
   ]
  },
  {
   "cell_type": "code",
   "execution_count": 8,
   "metadata": {},
   "outputs": [],
   "source": [
    "r = rd.Redis()\n",
    "key = \"my_ww4.\"\n",
    "for i in range(len(D[\"agro\"])):\n",
    "    r.set(key+str(i),str(D[\"agro\"].iloc[i]))"
   ]
  },
  {
   "cell_type": "code",
   "execution_count": 9,
   "metadata": {},
   "outputs": [],
   "source": [
    "r = rd.Redis()\n",
    "key = \"my_ww5.\"\n",
    "for i in range(len(D[\"piople\"])):\n",
    "    r.set(key+str(i),str(D[\"piople\"].iloc[i]))"
   ]
  },
  {
   "cell_type": "code",
   "execution_count": 11,
   "metadata": {},
   "outputs": [],
   "source": [
    "r = rd.Redis()\n",
    "key = \"my_ww6.\"\n",
    "for i in range(len(D[\"human\"])):\n",
    "    r.set(key+str(i),str(D[\"human\"].iloc[i]))"
   ]
  }
 ],
 "metadata": {
  "kernelspec": {
   "display_name": "Python 3",
   "language": "python",
   "name": "python3"
  },
  "language_info": {
   "codemirror_mode": {
    "name": "ipython",
    "version": 3
   },
   "file_extension": ".py",
   "mimetype": "text/x-python",
   "name": "python",
   "nbconvert_exporter": "python",
   "pygments_lexer": "ipython3",
   "version": "3.12.1"
  }
 },
 "nbformat": 4,
 "nbformat_minor": 2
}
