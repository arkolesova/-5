{
  "nbformat": 4,
  "nbformat_minor": 0,
  "metadata": {
    "colab": {
      "provenance": []
    },
    "kernelspec": {
      "name": "python3",
      "display_name": "Python 3"
    },
    "language_info": {
      "name": "python"
    }
  },
  "cells": [
    {
      "cell_type": "markdown",
      "source": [],
      "metadata": {
        "id": "VAoUZAFsxEWz"
      }
    },
    {
      "cell_type": "markdown",
      "source": [
        "<p align=\"center\"><b><font color=\"red\">Визитная карточка</font></b></p>\n",
        "\n"
      ],
      "metadata": {
        "id": "PlMiL4bbwCkA"
      }
    },
    {
      "cell_type": "markdown",
      "source": [
        "<h1>Шрек Фионович Ослов"
      ],
      "metadata": {
        "id": "7o0cl9ib9BdJ"
      }
    },
    {
      "cell_type": "markdown",
      "source": [
        "#### Информация о сотруднике"
      ],
      "metadata": {
        "id": "HH7Yr0ag5V3g"
      }
    },
    {
      "cell_type": "markdown",
      "source": [
        "\n",
        "<ul>\n",
        "<li>Мужской </li>\n",
        "<li>Дата рождения: 23.03.2003 </li>\n",
        "<li>Образование: высшее юридическое (МГЮА) </li>\n",
        "<li>Должность: Главный директор ПАО \"Сбербанк\" </li>\n",
        "<li>Место жительства: Болото, Московская область </li>\n",
        "\n",
        "\n",
        "\n"
      ],
      "metadata": {
        "id": "S5uwic2LyGms"
      }
    },
    {
      "cell_type": "markdown",
      "source": [
        "Личная страница:\n",
        "(https://ru.wikipedia.org/wiki/%D0%A8%D1%80%D0%B5%D0%BA_(%D0%BF%D0%B5%D1%80%D1%81%D0%BE%D0%BD%D0%B0%D0%B6)\n",
        "[Текст ссылки](https://)"
      ],
      "metadata": {
        "id": "-HafP_wN70lj"
      }
    },
    {
      "cell_type": "markdown",
      "source": [
        "![image](https://static.wikia.nocookie.net/drebedenboi/images/8/86/%D0%A8%D1%80%D0%B5%D0%BA.jpg/revision/latest/scale-to-width-down/600?cb=20210402080235&path-prefix=ru)"
      ],
      "metadata": {
        "id": "X9-Tqp2Qy6pj"
      }
    },
    {
      "cell_type": "markdown",
      "source": [
        "$$y(x) = \\frac{\\sum_{i=1}^{n} \\sum_{j=2}^{m} 9^2_i x_j}{\\sqrt{\\frac{9}{W^2}}} $$\n"
      ],
      "metadata": {
        "id": "DI4cGfzC2Ldu"
      }
    }
  ]
}